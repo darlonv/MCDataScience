{
 "cells": [
  {
   "cell_type": "markdown",
   "metadata": {},
   "source": [
    "# Minicurso Introdução à Ciência de Dados e Aprendizado de Máquina\n",
    "\n",
    "Toledo, 5 de setembro de 2019."
   ]
  },
  {
   "cell_type": "markdown",
   "metadata": {},
   "source": [
    "## Conteúdo"
   ]
  },
  {
   "cell_type": "markdown",
   "metadata": {},
   "source": [
    "### Manipulação de dados\n",
    "- Numpy\n",
    "    - Sobre a biblioteca\n",
    "    - Exercícios\n",
    "- Pandas\n",
    "    - Manipulação de dados\n",
    "    - Exercícios\n",
    "- Matplotlib\n",
    "    - Funcionamento básico\n",
    "    - Exercícios"
   ]
  },
  {
   "cell_type": "markdown",
   "metadata": {},
   "source": [
    "### Aprendizado de máquina\n",
    "- Regressões Lineares\n",
    "    - Princípio\n",
    "    - Sintaxe\n",
    "    - Exercício\n",
    "- Redes Neurais Artificiais\n",
    "    - Princípio básico\n",
    "    - Biblioteca sklearn\n",
    "    - Exercício"
   ]
  }
 ],
 "metadata": {
  "kernelspec": {
   "display_name": "Python 3",
   "language": "python",
   "name": "python3"
  },
  "language_info": {
   "codemirror_mode": {
    "name": "ipython",
    "version": 3
   },
   "file_extension": ".py",
   "mimetype": "text/x-python",
   "name": "python",
   "nbconvert_exporter": "python",
   "pygments_lexer": "ipython3",
   "version": "3.6.8"
  }
 },
 "nbformat": 4,
 "nbformat_minor": 2
}
