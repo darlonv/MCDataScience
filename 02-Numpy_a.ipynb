{
 "cells": [
  {
   "cell_type": "markdown",
   "metadata": {},
   "source": [
    "# Numpy\n",
    "\n",
    "Numpy é uma biblioteca Python voltada para computação científica."
   ]
  },
  {
   "cell_type": "markdown",
   "metadata": {},
   "source": [
    "## Importação\n",
    "\n",
    "Para importar a biblioteca, utilize  \n",
    "**import numpy as np**"
   ]
  },
  {
   "cell_type": "code",
   "execution_count": null,
   "metadata": {},
   "outputs": [],
   "source": []
  },
  {
   "cell_type": "markdown",
   "metadata": {},
   "source": [
    "## Numpy Arrays\n",
    "O array numpy é uma lista de valores, indexada por uma tupla de inteiros não negativos. O número de dimensões do array é o *rank* do array. O *shape* de um array é uma tupla de inteiros, dado o tamanho do array em cada dimensão definida.\n",
    "\n",
    "### Exemplo\n",
    "\n",
    "*Crie um vetor de uma dimensão*  \n",
    "**a = np.array([1, 2, 3])** \n",
    "\n",
    "*Observe o tipo do dado*  \n",
    "**print(type(a))**\n",
    "\n",
    "*Observe o formato*  \n",
    "**print (a.shape)**\n",
    "\n",
    "*Mostra os elementos em cada posição*  \n",
    "**print(a[0], a[1], a[2])**\n",
    "\n",
    "*Mostra todo o vetor*  \n",
    "**print(a)**\n",
    "\n",
    "*Altera valor em uma posição*  \n",
    "**a[0]=100**  \n",
    "\n",
    "*Mostra todo o vetor*  \n",
    "**print(a)**"
   ]
  },
  {
   "cell_type": "code",
   "execution_count": null,
   "metadata": {},
   "outputs": [],
   "source": []
  },
  {
   "cell_type": "markdown",
   "metadata": {},
   "source": [
    "Crie um outro vetor, com o seguinte formato  \n",
    "**b = np.array([[1,2,3], [4,5,6]])**  \n",
    "\n",
    "Compare os vetores __a__ e **b**."
   ]
  },
  {
   "cell_type": "code",
   "execution_count": null,
   "metadata": {},
   "outputs": [],
   "source": []
  },
  {
   "cell_type": "markdown",
   "metadata": {},
   "source": [
    "Experimente:  \n",
    "**print(b[1])**  \n",
    "e  \n",
    "**print(b[1][1])**  \n",
    "\n",
    "Explique o quê é mostrado"
   ]
  },
  {
   "cell_type": "code",
   "execution_count": null,
   "metadata": {},
   "outputs": [],
   "source": []
  },
  {
   "cell_type": "markdown",
   "metadata": {},
   "source": [
    "## Tipos de dados\n",
    "\n",
    "*Observe os tipos de dados armazenados*  \n",
    "**print(a.dtype)**"
   ]
  },
  {
   "cell_type": "code",
   "execution_count": null,
   "metadata": {},
   "outputs": [],
   "source": []
  },
  {
   "cell_type": "markdown",
   "metadata": {},
   "source": [
    "*Compare com os tipos de dados destes outros vetores, e observe o que ocorre*  \n",
    "**x=np.array([1, 2])**  \n",
    "**y=np.array([1.0, 2.0])**  \n",
    "**z=np.array([1, 2], dtype=np.int64)**"
   ]
  },
  {
   "cell_type": "code",
   "execution_count": null,
   "metadata": {},
   "outputs": [],
   "source": []
  },
  {
   "cell_type": "code",
   "execution_count": null,
   "metadata": {},
   "outputs": [],
   "source": []
  },
  {
   "cell_type": "code",
   "execution_count": null,
   "metadata": {},
   "outputs": [],
   "source": []
  },
  {
   "cell_type": "code",
   "execution_count": null,
   "metadata": {},
   "outputs": [],
   "source": []
  },
  {
   "cell_type": "code",
   "execution_count": null,
   "metadata": {},
   "outputs": [],
   "source": []
  },
  {
   "cell_type": "code",
   "execution_count": null,
   "metadata": {},
   "outputs": [],
   "source": []
  },
  {
   "cell_type": "markdown",
   "metadata": {},
   "source": [
    "## Funções para criação de arrays\n",
    "\n",
    "*Teste as funções abaixo, e observe seus retornos*  \n",
    "**np.zeros((2,2))**  \n",
    "**np.ones((3,3))**  \n",
    "**np.full((4,4),9)**  \n",
    "**np.eye(5)**  \n",
    "**np.random.random((6,6))**"
   ]
  },
  {
   "cell_type": "code",
   "execution_count": null,
   "metadata": {},
   "outputs": [],
   "source": []
  },
  {
   "cell_type": "markdown",
   "metadata": {},
   "source": [
    "## Array Slicing\n",
    "\n",
    "Semelhantes às Python lists, os arrays numpy possibilitam o *slicing*. Como os arrays podem possuir diversas dimensões, é necessário identificar o *slice* para cada dimensão.  \n",
    "\n",
    "**a = np.array([[1,2,3,4], [5,6,7,8], [9,10,11,12]])**  \n",
    "**b = a[:2, 1:3]**  \n",
    "_:2_: linhas 0 a 1  \n",
    "_1:3_: colunas 1 a 2"
   ]
  },
  {
   "cell_type": "code",
   "execution_count": null,
   "metadata": {},
   "outputs": [],
   "source": []
  },
  {
   "cell_type": "markdown",
   "metadata": {},
   "source": [
    "Como seria para mostrar apenas determinadas colunas utilizando *slices*?"
   ]
  },
  {
   "cell_type": "code",
   "execution_count": null,
   "metadata": {},
   "outputs": [],
   "source": []
  },
  {
   "cell_type": "markdown",
   "metadata": {},
   "source": [
    "Execute os comandos abaixo, e discuta sobre os resultados  \n",
    "**b = a[[0,2], 2]  \n",
    "c = a[[0,2,2], [0,2,3]]**  \n",
    "\n",
    "O que ocorreu em **b** e __c__?"
   ]
  },
  {
   "cell_type": "code",
   "execution_count": null,
   "metadata": {},
   "outputs": [],
   "source": []
  },
  {
   "cell_type": "markdown",
   "metadata": {},
   "source": [
    "## Alterações em slices\n",
    "\n",
    "Faça:  \n",
    "Observe o array **a  \n",
    "c = a[:2, 1:3]**  \n",
    "Observe o array **c  \n",
    "c[0][0]=20**  \n",
    "Observe o array **a**  \n",
    "\n",
    "O que ocorreu?  "
   ]
  },
  {
   "cell_type": "code",
   "execution_count": null,
   "metadata": {},
   "outputs": [],
   "source": []
  },
  {
   "cell_type": "markdown",
   "metadata": {},
   "source": [
    "O que ocorre com as operações abaixo?\n",
    "\n",
    "**a = np.array([[1,2,3], [4,5,6], [7,8,9], [10, 11, 12]])  \n",
    "b = np.array(0, 2, 0, 1)**\n",
    "\n"
   ]
  },
  {
   "cell_type": "code",
   "execution_count": null,
   "metadata": {},
   "outputs": [],
   "source": []
  }
 ],
 "metadata": {
  "kernelspec": {
   "display_name": "Python 3",
   "language": "python",
   "name": "python3"
  },
  "language_info": {
   "codemirror_mode": {
    "name": "ipython",
    "version": 3
   },
   "file_extension": ".py",
   "mimetype": "text/x-python",
   "name": "python",
   "nbconvert_exporter": "python",
   "pygments_lexer": "ipython3",
   "version": "3.6.8"
  }
 },
 "nbformat": 4,
 "nbformat_minor": 2
}
