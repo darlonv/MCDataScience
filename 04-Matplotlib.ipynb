{
 "cells": [
  {
   "cell_type": "markdown",
   "metadata": {},
   "source": [
    "# Matplotlib\n",
    "\n",
    "O matplotlib é uma biblioteca para visualização de dados, amplamente popular. \n",
    "\n",
    "A biblioteca é dita como poderosa, visto que permite controlar diversos aspectos das figuras nela criadas.  \n",
    "\n",
    "Página oficial:  \n",
    "[Matplotlib.org](https://matplotlib.org/)\n",
    "\n",
    "## Importar biblioteca \n",
    "\n",
    "**import matplotlib.pyplot as plt**\n"
   ]
  },
  {
   "cell_type": "code",
   "execution_count": null,
   "metadata": {},
   "outputs": [],
   "source": []
  },
  {
   "cell_type": "markdown",
   "metadata": {},
   "source": [
    "Para que os gráficos gerados possam ser vistos diretos no Jupyter, é necessário passar um comando de configuração. Basta executar  \n",
    "**%matplotlib inline**"
   ]
  },
  {
   "cell_type": "code",
   "execution_count": null,
   "metadata": {},
   "outputs": [],
   "source": []
  },
  {
   "cell_type": "markdown",
   "metadata": {},
   "source": [
    "Na aula, vamos também utilizar o numpy, para manipulação de dados.  \n",
    "**import numpy as np**"
   ]
  },
  {
   "cell_type": "code",
   "execution_count": null,
   "metadata": {},
   "outputs": [],
   "source": []
  },
  {
   "cell_type": "markdown",
   "metadata": {},
   "source": [
    "## Exemplo básico\n",
    "\n",
    "Como exempplo, podemos criar dois vetores, x e y  \n",
    "**x = np.linspace(0,10,20)//1**  \n",
    "**y = x*x**  "
   ]
  },
  {
   "cell_type": "code",
   "execution_count": null,
   "metadata": {},
   "outputs": [],
   "source": []
  },
  {
   "cell_type": "code",
   "execution_count": null,
   "metadata": {},
   "outputs": [],
   "source": []
  },
  {
   "cell_type": "markdown",
   "metadata": {},
   "source": [
    "Observe os valores criados nos vetores, x e y.\n",
    "\n",
    "**print(x)  \n",
    "print(y)**"
   ]
  },
  {
   "cell_type": "code",
   "execution_count": null,
   "metadata": {},
   "outputs": [],
   "source": []
  },
  {
   "cell_type": "markdown",
   "metadata": {},
   "source": [
    "Para plotar o gráfico, utiliza-se a função plot, com os parâmetros dos pontos x e y.  \n",
    "\n",
    "**plt.plot(x,y)**"
   ]
  },
  {
   "cell_type": "code",
   "execution_count": null,
   "metadata": {},
   "outputs": [],
   "source": []
  },
  {
   "cell_type": "markdown",
   "metadata": {},
   "source": [
    "Uma das possibilidades é colocar rótulos nos eixos x e y.   \n",
    "Execute e observe:  \n",
    "**plt.plot(x,y)  \n",
    "plt.xlabel('Eixo x')  \n",
    "plt.ylabel('Eixo y')  \n",
    "plt.title('Um gráfico bonito')**  "
   ]
  },
  {
   "cell_type": "code",
   "execution_count": null,
   "metadata": {},
   "outputs": [],
   "source": []
  },
  {
   "cell_type": "markdown",
   "metadata": {},
   "source": [
    "É possível trocar as cores.\n",
    "\n",
    "**plt.plot(x,y, 'r')  \n",
    "plt.xlabel('Eixo x')  \n",
    "plt.ylabel('Eixo y')  \n",
    "plt.title('Um gráfico bonito com uma linda linha vermelha')**"
   ]
  },
  {
   "cell_type": "code",
   "execution_count": null,
   "metadata": {},
   "outputs": [],
   "source": []
  },
  {
   "cell_type": "markdown",
   "metadata": {},
   "source": [
    "E isto?\n",
    "\n",
    "**plt.plot(x,y, 'r--')  \n",
    "plt.xlabel('Eixo x')  \n",
    "plt.ylabel('Eixo y')  \n",
    "plt.title('Um gráfico bonito com uma linda linha vermelha tracejada')**"
   ]
  },
  {
   "cell_type": "code",
   "execution_count": null,
   "metadata": {},
   "outputs": [],
   "source": []
  },
  {
   "cell_type": "markdown",
   "metadata": {},
   "source": [
    "Outra possibilidade é gerar diversos gráficos, organizados como uma matriz.  \n",
    "\n",
    "**plt.subplot(1,2,1)  \n",
    "plt.plot(x,y,'g--')  \n",
    "plt.subplot(1,2,2)  \n",
    "plt.plot(y,x,'y*')**"
   ]
  },
  {
   "cell_type": "code",
   "execution_count": null,
   "metadata": {},
   "outputs": [],
   "source": []
  },
  {
   "cell_type": "code",
   "execution_count": null,
   "metadata": {},
   "outputs": [],
   "source": []
  },
  {
   "cell_type": "markdown",
   "metadata": {},
   "source": [
    "## Adicionando eixos\n",
    "\n",
    "Execute, e depois modifique os parâmetros. O quê é cada parâmetro?\n",
    "\n",
    "**fig=plt.figure()  \n",
    "axes1 = fig.add_axes([0,0,1,1])  \n",
    "axes1.plot(x,y)  \n",
    "axes1.plot(y,x)**\n",
    "\n",
    " \n"
   ]
  },
  {
   "cell_type": "code",
   "execution_count": null,
   "metadata": {},
   "outputs": [],
   "source": []
  },
  {
   "cell_type": "markdown",
   "metadata": {},
   "source": [
    "## Adicionando subgraficos\n",
    "\n",
    "**fig=plt.figure()  \n",
    "axes1 = fig.add_axes([0,0,1,1])  \n",
    "axes1.plot(x,y)  \n",
    "axes1.plot(y,x)**\n",
    "\n",
    "**axes2 = fig.add_axes([0.3,0.7,0.5,0.5])  \n",
    "axes2.plot(y,x)**"
   ]
  },
  {
   "cell_type": "code",
   "execution_count": null,
   "metadata": {},
   "outputs": [],
   "source": []
  },
  {
   "cell_type": "markdown",
   "metadata": {},
   "source": [
    "### Exercícios \n",
    "\n",
    "- Modifique o código anterior até que todo o subgráfico esteja posicionado em uma parte do gráfico maior que não possua nada. Modifique o tamanho do sub-gráfico para ocupar um espaço maior."
   ]
  },
  {
   "cell_type": "code",
   "execution_count": null,
   "metadata": {},
   "outputs": [],
   "source": []
  },
  {
   "cell_type": "markdown",
   "metadata": {},
   "source": [
    "## Utilizando orientação a objetos\n",
    "\n",
    "Outra forma de utilizar o gráfico é utilizando o *subplots*, que retorna uma figura e os eixos, bastando setar os valores nos objetos retornados.  \n",
    "\n",
    "__figura, eixos = plt.subplots()  \n",
    "eixos.plot(x, 2 * x, 'g*' )  \n",
    "eixos.plot(x, 3 * x, 'b.' )  \n",
    "eixos.set_xlabel('eixo x')  \n",
    "eixos.set_ylabel('eixo y')  \n",
    "eixos.set_title('Título do grafico')__\n",
    "\n"
   ]
  },
  {
   "cell_type": "code",
   "execution_count": null,
   "metadata": {},
   "outputs": [],
   "source": []
  },
  {
   "cell_type": "markdown",
   "metadata": {},
   "source": [
    "## Vários gráficos\n",
    "\n",
    "__figura, e = plt.subplots(nrows=2, ncols=2)  \n",
    "e[0][0].plot(x,y,'g')  \n",
    "e[0][1].plot(x,y,'g')  \n",
    "e[1][0].plot(x,y,'g')  \n",
    "e[1][1].plot(x,y,'g')__\n",
    "\n",
    "Execute e explique o resultado.\n",
    "\n"
   ]
  },
  {
   "cell_type": "code",
   "execution_count": null,
   "metadata": {},
   "outputs": [],
   "source": []
  },
  {
   "cell_type": "markdown",
   "metadata": {},
   "source": [
    "## Incluindo legendas\n",
    "\n",
    "**figura, eixos = plt.subplots()  \n",
    "eixos.plot(x, 2 * x, 'g*' , label='2 * x')  \n",
    "eixos.plot(x, 3 * x, 'b.' , label='3 * x')  \n",
    "eixos.set_xlabel('eixo x')  \n",
    "eixos.set_ylabel('eixo y')  \n",
    "eixos.set_title('Título do grafico')  \n",
    "eixos.legend()**"
   ]
  },
  {
   "cell_type": "code",
   "execution_count": null,
   "metadata": {},
   "outputs": [],
   "source": []
  },
  {
   "cell_type": "markdown",
   "metadata": {},
   "source": [
    "## Exercício\n",
    "\n",
    "Faça um gráfico que plote duas equações de segundo grau, do tipo ax^2 + bx + c .\n",
    "- Na eq. A: a=10, b=20 e c=30, e x de -100 a 100\n",
    "- Na eq. B:  a=5, b=20, c=10\n",
    "- Utilize de x -100 a 100, com 1000 pontos.\n",
    "- Inclua legenda no seu gráfico."
   ]
  },
  {
   "cell_type": "code",
   "execution_count": null,
   "metadata": {},
   "outputs": [],
   "source": []
  },
  {
   "cell_type": "code",
   "execution_count": null,
   "metadata": {},
   "outputs": [],
   "source": []
  },
  {
   "cell_type": "markdown",
   "metadata": {},
   "source": [
    "### Exercício\n",
    "\n",
    "Inclua no método **legend** o parâmetro **loc=i**, variando os valores de **i** e observe o resultado. Inicie com __i=0__ ."
   ]
  },
  {
   "cell_type": "markdown",
   "metadata": {},
   "source": [
    "# Salvando figuras\n",
    "\n",
    "O método savefig salva a figura, utilizando o formato de imagem passado como parametro no nome do arquivo\n",
    "\n",
    "**fig.savefig('grafico.png')**"
   ]
  },
  {
   "cell_type": "code",
   "execution_count": null,
   "metadata": {},
   "outputs": [],
   "source": []
  }
 ],
 "metadata": {
  "kernelspec": {
   "display_name": "Python 3",
   "language": "python",
   "name": "python3"
  },
  "language_info": {
   "codemirror_mode": {
    "name": "ipython",
    "version": 3
   },
   "file_extension": ".py",
   "mimetype": "text/x-python",
   "name": "python",
   "nbconvert_exporter": "python",
   "pygments_lexer": "ipython3",
   "version": "3.6.8"
  }
 },
 "nbformat": 4,
 "nbformat_minor": 2
}
