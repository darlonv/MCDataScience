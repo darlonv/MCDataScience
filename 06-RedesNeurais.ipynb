{
 "cells": [
  {
   "cell_type": "markdown",
   "metadata": {
    "slideshow": {
     "slide_type": "slide"
    }
   },
   "source": [
    "# Redes Neurais Artificiais\n",
    "\n",
    "Uma **Rede Neural Artificial** é um sistema computacional que opera de maneira diferente dos sistemas tradicionais. Seu funcionamento consiste em um conjunto de **neurônios**, que são uma unidade básica que possui **entradas**, **armazenamento** e **saída**, em conjuntamente com um grupo de **pesos** para as entradas.\n",
    "\n",
    "\n",
    "Figura: Diagrama simplificado de uma rede neural \n",
    "![rede_neural_diagrama](https://upload.wikimedia.org/wikipedia/commons/3/3c/Neuralnetwork.png)\n",
    "Fonte: [Wikipedia - Rede neural artificial](https://pt.wikipedia.org/wiki/Rede_neural_artificial)\n",
    "\n"
   ]
  },
  {
   "cell_type": "markdown",
   "metadata": {
    "slideshow": {
     "slide_type": "subslide"
    }
   },
   "source": [
    "Cada *coluna* de neurônios é chamada de **camada**, e uma rede neural pode possuir uma ou mais camadas e a quantidade de neurônios por camada também pode ser variada.\n",
    "\n",
    "A primeira camada é composta pela **camada de entrada** (*input layer*), enquanto a última camada é a **camada de saída** (*output layer*). As demais camadas intermediárias são chamada de **camadas ocultas** (*hidden layers*)."
   ]
  },
  {
   "cell_type": "markdown",
   "metadata": {
    "slideshow": {
     "slide_type": "slide"
    }
   },
   "source": [
    "## Bibliotecas\n",
    "\n",
    "```py\n",
    "import numpy as np\n",
    "import pandas as pd\n",
    "import os\n",
    "#Obter dia e hora\n",
    "from datetime import datetime\n",
    "#Manipulação de imagens\n",
    "#from PIL import Image\n",
    "#Mostrar imagens\n",
    "from matplotlib.pyplot import imshow\n",
    "#Permite visualizar as imagens no próprio Jupyter Notebook\n",
    "%matplotlib inline\n",
    "```"
   ]
  },
  {
   "cell_type": "code",
   "execution_count": null,
   "metadata": {
    "slideshow": {
     "slide_type": "fragment"
    }
   },
   "outputs": [],
   "source": []
  },
  {
   "cell_type": "markdown",
   "metadata": {
    "slideshow": {
     "slide_type": "slide"
    }
   },
   "source": [
    "## Carregando base de dados"
   ]
  },
  {
   "cell_type": "markdown",
   "metadata": {
    "slideshow": {
     "slide_type": "fragment"
    }
   },
   "source": [
    "Utilizaremos o conjunto de imagens disponível na base de dados [MNIST](http://yann.lecun.com/exdb/mnist/). Consiste em um conjunto de imagens, já padronizadas e rotuladas. Cada imagem possui o tamanho de 28x28 pixels."
   ]
  },
  {
   "cell_type": "markdown",
   "metadata": {
    "slideshow": {
     "slide_type": "fragment"
    }
   },
   "source": [
    "```py\n",
    "print(os.listdir('entrada/'))\n",
    "```"
   ]
  },
  {
   "cell_type": "code",
   "execution_count": null,
   "metadata": {
    "slideshow": {
     "slide_type": "skip"
    }
   },
   "outputs": [],
   "source": []
  },
  {
   "cell_type": "markdown",
   "metadata": {
    "slideshow": {
     "slide_type": "fragment"
    }
   },
   "source": [
    "```py\n",
    "print('Carregando base de dados...')\n",
    "loadInicio=datetime.now()\n",
    "df = pd.read_csv('entrada/train.csv')\n",
    "loadFim=datetime.now()\n",
    "print('Tempo para carregar:', loadFim-loadInicio)\n",
    "```"
   ]
  },
  {
   "cell_type": "code",
   "execution_count": null,
   "metadata": {
    "slideshow": {
     "slide_type": "fragment"
    }
   },
   "outputs": [],
   "source": []
  },
  {
   "cell_type": "markdown",
   "metadata": {
    "slideshow": {
     "slide_type": "slide"
    }
   },
   "source": [
    "## Observando a base de dados\n",
    "**Código**\n",
    "```py\n",
    "print(df.info())\n",
    "```"
   ]
  },
  {
   "cell_type": "code",
   "execution_count": null,
   "metadata": {
    "slideshow": {
     "slide_type": "subslide"
    }
   },
   "outputs": [],
   "source": []
  },
  {
   "cell_type": "markdown",
   "metadata": {
    "slideshow": {
     "slide_type": "subslide"
    }
   },
   "source": [
    "**Código**\n",
    "```py\n",
    "df.head()\n",
    "```"
   ]
  },
  {
   "cell_type": "code",
   "execution_count": null,
   "metadata": {
    "slideshow": {
     "slide_type": "subslide"
    }
   },
   "outputs": [],
   "source": []
  },
  {
   "cell_type": "markdown",
   "metadata": {
    "slideshow": {
     "slide_type": "slide"
    }
   },
   "source": [
    "## Obtendo uma amostra"
   ]
  },
  {
   "cell_type": "markdown",
   "metadata": {
    "slideshow": {
     "slide_type": "fragment"
    }
   },
   "source": [
    "O código abaixo obtém uma amostra da base de dados e mostra-o como imagem.  \n",
    "**Código**\n",
    "```py\n",
    "amostra = df.sample(1)\n",
    "rotulo = amostra.iloc[0,0]\n",
    "imagem = amostra.iloc[:,1:].values.reshape(28,28)\n",
    "print('Rótulo:', rotulo)\n",
    "imshow(imagem, cmap='gray')\n",
    "```"
   ]
  },
  {
   "cell_type": "code",
   "execution_count": null,
   "metadata": {
    "slideshow": {
     "slide_type": "subslide"
    }
   },
   "outputs": [],
   "source": []
  },
  {
   "cell_type": "markdown",
   "metadata": {
    "slideshow": {
     "slide_type": "slide"
    }
   },
   "source": [
    "## Normalizando os dados\n",
    "\n",
    "A normalização de dados consiste em colocar os valores em uma mesma escala. Uma prática comum é definir em 0 o valor mínimo e 1 o valor máximo, definindo os demais valores de maneira proporcional, dentro desta escala.\n",
    "\n",
    "Para o caso atual, basta apenas dividir todos os valores por 255.\n",
    "```py\n",
    "df.iloc[:,1:] /= 255\n",
    "```"
   ]
  },
  {
   "cell_type": "code",
   "execution_count": null,
   "metadata": {
    "slideshow": {
     "slide_type": "fragment"
    }
   },
   "outputs": [],
   "source": []
  },
  {
   "cell_type": "markdown",
   "metadata": {
    "slideshow": {
     "slide_type": "slide"
    }
   },
   "source": [
    "## Separando dados para a rede\n"
   ]
  },
  {
   "cell_type": "markdown",
   "metadata": {
    "slideshow": {
     "slide_type": "fragment"
    }
   },
   "source": [
    "x: rótulos das imagens  \n",
    "y: pixels das imagens  \n",
    "**Código**\n",
    "```py\n",
    "x = df.iloc[:,1:]\n",
    "y = df.iloc[:,:1]\n",
    "```"
   ]
  },
  {
   "cell_type": "code",
   "execution_count": null,
   "metadata": {
    "slideshow": {
     "slide_type": "fragment"
    }
   },
   "outputs": [],
   "source": []
  },
  {
   "cell_type": "markdown",
   "metadata": {
    "slideshow": {
     "slide_type": "slide"
    }
   },
   "source": [
    "## Dividindo os dados em treino e teste\n",
    "- treino: 80% dos dados\n",
    "- teste : 20% dos dados\n",
    "\n",
    "Código:\n",
    "```py\n",
    "from math import ceil\n",
    "\n",
    "n = x.shape[0]\n",
    "n_train = ceil(0.8 * n)\n",
    "n_test = ceil(0.2 * n)\n",
    "\n",
    "x_train = x[:n_train]\n",
    "y_train = y[:n_train]\n",
    "\n",
    "x_test = x[n_train:]\n",
    "y_test = y[n_train:]\n",
    "\n",
    "y_train = np.squeeze(y_train)\n",
    "y_test = np.squeeze(y_test)\n",
    "```"
   ]
  },
  {
   "cell_type": "code",
   "execution_count": null,
   "metadata": {
    "slideshow": {
     "slide_type": "subslide"
    }
   },
   "outputs": [],
   "source": []
  },
  {
   "cell_type": "markdown",
   "metadata": {
    "slideshow": {
     "slide_type": "slide"
    }
   },
   "source": [
    "## Criando a rede\n",
    "\n",
    "Todos os parâmetros podem ser consultados na [API](https://scikit-learn.org/stable/modules/generated/sklearn.neural_network.MLPClassifier.html) do MLPClassifier.\n",
    "\n",
    "```py\n",
    "from sklearn.neural_network import MLPClassifier\n",
    "\n",
    "mlp_model = MLPClassifier(solver='adam', \n",
    "                         hidden_layer_sizes=(1024, 128), \n",
    "                         verbose=True,)\n",
    "\n",
    "print(mlp_model)\n",
    "```"
   ]
  },
  {
   "cell_type": "code",
   "execution_count": null,
   "metadata": {},
   "outputs": [],
   "source": []
  },
  {
   "cell_type": "markdown",
   "metadata": {
    "slideshow": {
     "slide_type": "slide"
    }
   },
   "source": [
    "## Treinando a rede\n",
    "\n",
    "Treinar a rede consiste em definir quais serão os pesos associados a cada neurônio, que será considerado como entrada para a camada seguinte. Este processo demanda quantidade de processamento.  \n",
    "**Código**\n",
    "```py\n",
    "print('Treinando a rede...')\n",
    "treinoInicio=datetime.now()\n",
    "mlp_model.fit(x_train, y_train)\n",
    "treinoFim=datetime.now()\n",
    "print('Tempo de treino:',treinoFim-treinoInicio)\n",
    "```"
   ]
  },
  {
   "cell_type": "code",
   "execution_count": null,
   "metadata": {
    "slideshow": {
     "slide_type": "skip"
    }
   },
   "outputs": [],
   "source": []
  },
  {
   "cell_type": "markdown",
   "metadata": {
    "slideshow": {
     "slide_type": "slide"
    }
   },
   "source": [
    "## Testando a rede\n",
    "\n",
    "O teste da rede consiste prever os rótulos para os valores separados da base de dados para teste.\n",
    "```py\n",
    "pred_mlp =  mlp_model.predict(x_test)\n",
    "```"
   ]
  },
  {
   "cell_type": "code",
   "execution_count": null,
   "metadata": {
    "slideshow": {
     "slide_type": "fragment"
    }
   },
   "outputs": [],
   "source": []
  },
  {
   "cell_type": "markdown",
   "metadata": {
    "slideshow": {
     "slide_type": "slide"
    }
   },
   "source": [
    "## Cálculo da taxa de erro\n",
    "\n",
    "A taxa de erro é calculada com base na quantidade de acertos \n",
    "\n",
    "**Código**\n",
    "```py\n",
    "from sklearn.metrics import classification_report, confusion_matrix, accuracy_score\n",
    "from sklearn import metrics\n",
    "\n",
    "print(\"Calculando o erro\")\n",
    "print('Erro absoluto médio:', metrics.mean_absolute_error(y_test, pred_mlp))  \n",
    "\n",
    "```\n",
    "\n",
    "<!---\n",
    "```py\n",
    "from sklearn.metrics import classification_report, confusion_matrix, accuracy_score\n",
    "from sklearn import metrics\n",
    "\n",
    "print(\"Calculando o erro\")\n",
    "print('Erro absoluto médio:', metrics.mean_absolute_error(y_test, pred_mlp))  \n",
    "print('Erro quadrático médio:', metrics.mean_squared_error(y_test, pred_mlp))  \n",
    "print('Raiz do erro quadrático médio:', np.sqrt(metrics.mean_squared_error(y_test, pred_mlp))) \n",
    "```\n",
    "--->"
   ]
  },
  {
   "cell_type": "code",
   "execution_count": null,
   "metadata": {},
   "outputs": [],
   "source": []
  },
  {
   "cell_type": "markdown",
   "metadata": {
    "slideshow": {
     "slide_type": "slide"
    }
   },
   "source": [
    "## Exercícios"
   ]
  },
  {
   "cell_type": "markdown",
   "metadata": {
    "slideshow": {
     "slide_type": "subslide"
    }
   },
   "source": [
    "**Exercício**  \n",
    "Repita a criação, treinamento e teste da rede sem executar a normalização, e observe cada item abaixo, comparando-os com os dados da execução com dados normalizados:\n",
    "- O número de iterações necessárias para a criação da rede\n",
    "- O tempo necessário para criar a rede\n",
    "- O tempo necessário para testar a rede\n",
    "- A taxa de erro"
   ]
  },
  {
   "cell_type": "markdown",
   "metadata": {
    "slideshow": {
     "slide_type": "subslide"
    }
   },
   "source": [
    "**Exercício**  \n",
    "Repita a criação, treinamento e teste da rede, observando a atividade do processador.  \n",
    "\n",
    "Observe o uso das diversas unidades de processamento nos seguintes passos:\n",
    "- Normalização dos dados\n",
    "- Treinamento da rede.\n",
    "    \n",
    "O quê pode-se concluir com isso?"
   ]
  },
  {
   "cell_type": "markdown",
   "metadata": {
    "slideshow": {
     "slide_type": "subslide"
    }
   },
   "source": [
    "**Exercício**  \n",
    "Repita a criação da rede, incluindo o seguinte parâmetro:\n",
    "```py\n",
    "tol=0.00001\n",
    "```\n",
    "Treine novamente a rede, e observe:\n",
    "- Número de iterações\n",
    "- Tempo de treinamento\n",
    "\n",
    "O quê pode-se concluir?"
   ]
  },
  {
   "cell_type": "markdown",
   "metadata": {
    "slideshow": {
     "slide_type": "subslide"
    }
   },
   "source": [
    "**Exercício**  \n",
    "Repita a criação da rede, modificando o parâmetro `tol`, para o seguintes valores:\n",
    "```py\n",
    "tol=0.1\n",
    "tol=0.01\n",
    "tol=0.001\n",
    "tol=0.0001\n",
    "tol=0.00001\n",
    "tol=0.000001\n",
    "tol=0.0000001\n",
    "tol=0.00000001\n",
    "tol=0.000000001\n",
    "```\n",
    "\n",
    "\n",
    "Para cada valor, observe:\n",
    "- Número de iterações\n",
    "- Valor 'loss' a cada iteração\n",
    "- Tempo de treinamento da rede\n",
    "- Taxa de erro"
   ]
  },
  {
   "cell_type": "markdown",
   "metadata": {
    "slideshow": {
     "slide_type": "subslide"
    }
   },
   "source": [
    "**Exercício**  \n",
    "Elabore gráficos, abordando:\n",
    "- A relação entre o valor de `tol` e a taxa de erro;\n",
    "- A relação entre o valor de `tol` e o tempo necessário para o treinamento da rede."
   ]
  },
  {
   "cell_type": "markdown",
   "metadata": {
    "slideshow": {
     "slide_type": "subslide"
    }
   },
   "source": [
    "**Exercício**  \n",
    "Pesquise o que significam os termos *underfitting* e *overfitting*, no contexto de aprendizagem de máquina."
   ]
  },
  {
   "cell_type": "markdown",
   "metadata": {
    "slideshow": {
     "slide_type": "subslide"
    }
   },
   "source": [
    "**Exercício**  \n",
    "Utilizando um aplicativo de edição de imagens, como o Gimp p.ex., desenhe um número em uma imagem e em seguida utilize esse número como entrada para a rede neural.  "
   ]
  },
  {
   "cell_type": "markdown",
   "metadata": {
    "slideshow": {
     "slide_type": "fragment"
    }
   },
   "source": [
    "**Orientações**  \n",
    "- Crie uma nova imagem, de tamanho quadrado (500x500 px, p.ex)\n",
    "- Escreva o número\n",
    "- Redimensione a imagem para 28x28 px\n",
    "- Caso necessário, inverta as cores. Fundo preto e escrita branca.\n",
    "- Converta imagem para o formato de entrada da rede.\n",
    "- Teste a rede e observe o resultado, se o valor informado pela rede realmente corresponde ao valor escrito."
   ]
  },
  {
   "cell_type": "markdown",
   "metadata": {
    "slideshow": {
     "slide_type": "slide"
    }
   },
   "source": [
    "## Referências\n",
    "\n",
    "\n",
    "[LEPSEN, L. Rede Neural para classificar dígitos manuscritos com Python e sklearn. Data hackers, 2019](https://medium.com/data-hackers/rede-neural-para-classificar-d%C3%ADgitos-manuscritos-com-python-e-sklearn-84421e45b4fa)\n",
    "\n",
    "[The MNIST database](http://yann.lecun.com/exdb/mnist/)\n",
    "\n",
    "[Kaggle. Learn computer vision fundamentals with the famous MNIST data. Kaggle, 2012](https://www.kaggle.com/c/digit-recognizer/data)\n",
    "\n"
   ]
  }
 ],
 "metadata": {
  "kernelspec": {
   "display_name": "Python 3",
   "language": "python",
   "name": "python3"
  },
  "language_info": {
   "codemirror_mode": {
    "name": "ipython",
    "version": 3
   },
   "file_extension": ".py",
   "mimetype": "text/x-python",
   "name": "python",
   "nbconvert_exporter": "python",
   "pygments_lexer": "ipython3",
   "version": "3.6.8"
  }
 },
 "nbformat": 4,
 "nbformat_minor": 2
}
