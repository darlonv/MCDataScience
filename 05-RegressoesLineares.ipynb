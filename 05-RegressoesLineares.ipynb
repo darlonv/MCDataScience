{
 "cells": [
  {
   "cell_type": "markdown",
   "metadata": {},
   "source": [
    "# Regressões lineares\n",
    "\n",
    "A **análise de regressão** estuda a relação entre diversas variáveis, onde uma delas é a **variável dependente** e as demais são **variáveis independentes**.\n",
    "\n",
    "A regressão linear consiste em um modelo matemático, um algoritmo que associa a variável dependente de acordo com as variáveis independentes.\n",
    "\n",
    "Nas situações em que a relação ẽ observada utilizando uma única variável independente, denomina-se o modelo como **regressão linear simples (RLS)**, e quando diversas variáveis independentes são consideradas, o modelo passa a chamar-se **regressão linear múltipla (RLM)**.\n",
    "\n",
    "Em resumo, a regressão linear consistem descobrir uma equação de reta que calcule a variável dependente com base nas variáveis independentes, utilizando a menor taxa de erro possível.\n",
    "\n",
    "<img src=\"https://upload.wikimedia.org/wikipedia/commons/4/41/LinearRegression.svg\" width=\"300\">  \n",
    "Figura: <!---![Exemplo de regressão linear](https://upload.wikimedia.org/wikipedia/commons/4/41/LinearRegression.svg)  --->\n",
    "Exemplo de regressão linear - Fonte: [Wikipedia](https://pt.wikipedia.org/wiki/Regress%C3%A3o_linear)\n"
   ]
  },
  {
   "cell_type": "markdown",
   "metadata": {},
   "source": [
    "O método de regressões lineares é considerado um método **supervisionado**, ou seja, é necessário projetar o modelo utilizando dados já conhecidos, para então posteriormente aplicar o modelo em dados desconhecidos."
   ]
  },
  {
   "cell_type": "markdown",
   "metadata": {},
   "source": [
    "## Importando bibliotecas\n",
    "\n",
    "```py\n",
    "import numpy as np\n",
    "import pandas as pd\n",
    "import matplotlib.pyplot as plt\n",
    "import seaborn as sns\n",
    "from sklearn.linear_model import LinearRegression\n",
    "%matplotlib inline\n",
    "```"
   ]
  },
  {
   "cell_type": "code",
   "execution_count": null,
   "metadata": {},
   "outputs": [],
   "source": []
  },
  {
   "cell_type": "markdown",
   "metadata": {},
   "source": [
    "## Exemplo: Criando e treinando um modelo"
   ]
  },
  {
   "cell_type": "markdown",
   "metadata": {},
   "source": [
    "Carregue a base de dados *tips* (gorjetas) para utilizar como exemplo.\n",
    "```py\n",
    "tips = sns.load_dataset('tips')\n",
    "```"
   ]
  },
  {
   "cell_type": "code",
   "execution_count": null,
   "metadata": {},
   "outputs": [],
   "source": []
  },
  {
   "cell_type": "markdown",
   "metadata": {},
   "source": [
    "Como dados de treino, para o eixo x, utilize o total da conta (*total_bill*) e para o eixo y, o valor da gorjeta (*tip*).\n",
    "```py\n",
    "valorConta = tips['total_bill']\n",
    "valorGorjeta = tips['tip']\n",
    "```"
   ]
  },
  {
   "cell_type": "code",
   "execution_count": null,
   "metadata": {},
   "outputs": [],
   "source": []
  },
  {
   "cell_type": "markdown",
   "metadata": {},
   "source": [
    "Gerando um gráfico de pontos (*scatterplot*), com os dados.\n",
    "```py\n",
    "plt.figure(figsize=(10,5))\n",
    "plt.xticks(rotation=0)\n",
    "plt.title('Relação entre total da conta e gorjeta')\n",
    "sns.set_context()\n",
    "ax = sns.scatterplot(x=valorConta, y=valorGorjeta)\n",
    "ax.set(xlabel='Valor total da conta ($)', ylabel='Valor da gorjeta ($)')\n",
    "```"
   ]
  },
  {
   "cell_type": "code",
   "execution_count": null,
   "metadata": {},
   "outputs": [],
   "source": []
  },
  {
   "cell_type": "markdown",
   "metadata": {},
   "source": [
    "## Criando e treinando o modelo"
   ]
  },
  {
   "cell_type": "markdown",
   "metadata": {},
   "source": [
    "Criando o conjunto para treinar o modelo\n",
    "```py\n",
    "xTreino=valorConta.values.reshape(-1,1)\n",
    "yTreino=valorGorjeta.values.reshape(-1,1)\n",
    "```"
   ]
  },
  {
   "cell_type": "code",
   "execution_count": null,
   "metadata": {},
   "outputs": [],
   "source": []
  },
  {
   "cell_type": "markdown",
   "metadata": {},
   "source": [
    "Criando o modelo\n",
    "```py\n",
    "modelo = LinearRegression()\n",
    "modelo.fit(xTreino, yTreino)\n",
    "```"
   ]
  },
  {
   "cell_type": "code",
   "execution_count": null,
   "metadata": {},
   "outputs": [],
   "source": []
  },
  {
   "cell_type": "markdown",
   "metadata": {},
   "source": [
    "## Plotando dados e reta\n",
    "\n",
    "Para mostrar os dados e também uma reta entre o ponto (x,y) entre o menor e maior valor predito:\n",
    "\n",
    "```py\n",
    "#Obtendo o menor e maior valor de x\n",
    "xLinha = np.array([tips['total_bill'].min(), tips['total_bill'].max()]).reshape(-1,1)\n",
    "print(xLinha)\n",
    "\n",
    "#Predizendo qual serão os valores de y para o menor e maior valores de x\n",
    "yLinha = modelo.predict(xLinha)\n",
    "\n",
    "#colocando x e y em Pandas Series\n",
    "sx = pd.Series([xLinha[0][0],xLinha[1][0]])\n",
    "sy = pd.Series([yLinha[0][0],yLinha[1][0]])\n",
    "\n",
    "#Mostrando um gráfico com os dados e uma linha entre os valores preditos\n",
    "plt.figure(figsize=(10,5))\n",
    "plt.xticks(rotation=0)\n",
    "plt.title('Relação entre total da conta e gorjeta')\n",
    "sns.set_context()\n",
    "ax = sns.scatterplot(x=valorConta, y=valorGorjeta)\n",
    "ax.set(xlabel='Valor total da conta ($)', ylabel='Valor da gorjeta ($)')\n",
    "sns.lineplot(x=sx, y=sy)\n",
    "```"
   ]
  },
  {
   "cell_type": "code",
   "execution_count": null,
   "metadata": {
    "scrolled": false
   },
   "outputs": [],
   "source": []
  },
  {
   "cell_type": "markdown",
   "metadata": {},
   "source": [
    "## Testando o modelo"
   ]
  },
  {
   "cell_type": "markdown",
   "metadata": {},
   "source": [
    "Pergunta: Quais serão os valores das gorjetas para as contas que tiverem total de 10, 20 e 30 dólares?  \n",
    "Primeiramente, esses valores devem ser colocados em um *array* numpy\n",
    "\n",
    "```py\n",
    "xPredict = np.array([10,20,30]).reshape(3,1)\n",
    "print(xPredict)\n",
    "```"
   ]
  },
  {
   "cell_type": "code",
   "execution_count": null,
   "metadata": {},
   "outputs": [],
   "source": []
  },
  {
   "cell_type": "markdown",
   "metadata": {},
   "source": [
    "Em seguida, esses valores são passados como entrada para o modelo, e a saída do modelo são os resultado preditos para essa entrada\n",
    "\n",
    "```py\n",
    "yPredict = modelo.predict(xPredict)\n",
    "print(yPredict)\n",
    "```"
   ]
  },
  {
   "cell_type": "code",
   "execution_count": null,
   "metadata": {},
   "outputs": [],
   "source": []
  },
  {
   "cell_type": "markdown",
   "metadata": {},
   "source": [
    "Mostrando esses pontos no gráfico\n",
    "```py\n",
    "x=xPredict.reshape(-1)\n",
    "y=yPredict.reshape(-1)\n",
    "\n",
    "#Mostra os dados da base\n",
    "plt.figure(figsize=(10,5))\n",
    "plt.xticks(rotation=0)\n",
    "plt.title('Relação entre total da conta e gorjeta')\n",
    "sns.set_context()\n",
    "ax = sns.scatterplot(x=valorConta, y=valorGorjeta)\n",
    "ax.set(xlabel='Valor total da conta ($)', ylabel='Valor da gorjeta ($)')\n",
    "#Mostra os dados preditos\n",
    "sns.scatterplot(x, y)\n",
    "```"
   ]
  },
  {
   "cell_type": "code",
   "execution_count": null,
   "metadata": {},
   "outputs": [],
   "source": []
  },
  {
   "cell_type": "markdown",
   "metadata": {},
   "source": [
    "**Atividade**  \n",
    "Utilizando o modelo, calcule quais seriam as gorjetas para todos os valores de 1 a 50 dólares."
   ]
  },
  {
   "cell_type": "code",
   "execution_count": null,
   "metadata": {},
   "outputs": [],
   "source": []
  },
  {
   "cell_type": "markdown",
   "metadata": {},
   "source": [
    "**Atividade**  \n",
    "Mostre o gráfico com os valores preditos para gorjetas com contas de 1 a 50 dólares."
   ]
  },
  {
   "cell_type": "code",
   "execution_count": null,
   "metadata": {},
   "outputs": [],
   "source": []
  },
  {
   "cell_type": "markdown",
   "metadata": {},
   "source": [
    "## Dividindo a base de dados em treino e teste\n",
    "\n",
    "Agora utilizaremos o mesmo exemplo de uma outra forma: dividindo os dados em dois conjuntos distintos: **treino** e **teste**.\n",
    "\n",
    "O conjunto de treino será utilizado para a criação do modelo. Após criado o modelo, utilizaremos os dados separados no conjunto de teste, e compararemos os resultados do modelo predito com os dados reais. Isto possibilitará a avaliação do modelo, ou seja, ver se o modelo é bom ou ruim para o caso que deseja-se resolver."
   ]
  },
  {
   "cell_type": "markdown",
   "metadata": {},
   "source": [
    "Carregando os dados novamente, e separando em colunas:\n",
    "```py\n",
    "tips = sns.load_dataset('tips')\n",
    "valorConta = tips['total_bill']\n",
    "valorGorjeta = tips['tip']\n",
    "```"
   ]
  },
  {
   "cell_type": "code",
   "execution_count": null,
   "metadata": {},
   "outputs": [],
   "source": []
  },
  {
   "cell_type": "markdown",
   "metadata": {},
   "source": [
    "Agora, será necessário importar a biblioteca que realizará a divisão dos dados de maneira automática.\n",
    "\n",
    "```py\n",
    "from sklearn.model_selection import train_test_split\n",
    "```"
   ]
  },
  {
   "cell_type": "code",
   "execution_count": null,
   "metadata": {},
   "outputs": [],
   "source": []
  },
  {
   "cell_type": "markdown",
   "metadata": {},
   "source": [
    "Separando os dados em treino e teste\n",
    "\n",
    "```py\n",
    "x=valorConta.values.reshape(-1,1)\n",
    "y=valorGorjeta.values.reshape(-1,1)\n",
    "xTreino, xTeste, yTreino, yTest = train_test_split(x, y, test_size = 0.2, random_state=0)\n",
    "```"
   ]
  },
  {
   "cell_type": "code",
   "execution_count": null,
   "metadata": {},
   "outputs": [],
   "source": []
  },
  {
   "cell_type": "markdown",
   "metadata": {},
   "source": [
    "**Atividade**  \n",
    "Observe o tamanho das bases abaixo, e as analise. Pode-se utilizar o atributo `.shape`.\n",
    "- [ ] valorConta\n",
    "- [ ] xTreino\n",
    "- [ ] xTeste\n",
    "- [ ] valorGorjeta\n",
    "- [ ] yTreino\n",
    "- [ ] yTeste"
   ]
  },
  {
   "cell_type": "markdown",
   "metadata": {},
   "source": [
    "**Atividade**  \n",
    "Nos dados de treino e teste, observe alguns valores\n",
    "- [ ] Valores mínimos\n",
    "- [ ] Valores máximos\n",
    "- [ ] Médias"
   ]
  },
  {
   "cell_type": "code",
   "execution_count": null,
   "metadata": {},
   "outputs": [],
   "source": []
  },
  {
   "cell_type": "markdown",
   "metadata": {},
   "source": [
    "**Atividade**  \n",
    "Na divisão dos dados de treino e teste, altere o valor definido no parâmetro `random_state`. Observe novamente os valores mínimos, máximos e médias, responda:\n",
    "- [ ] o quê mudou?\n",
    "- [ ] por quê mudou?\n",
    "- [ ] se o valor para `random_state` for o mesmo, estes valores são mantidos?"
   ]
  },
  {
   "cell_type": "code",
   "execution_count": null,
   "metadata": {},
   "outputs": [],
   "source": []
  },
  {
   "cell_type": "markdown",
   "metadata": {},
   "source": [
    "Criando o modelo, com os dados de treino\n",
    "```py\n",
    "modelo = LinearRegression()\n",
    "modelo.fit(xTreino, yTreino)\n",
    "```"
   ]
  },
  {
   "cell_type": "code",
   "execution_count": null,
   "metadata": {},
   "outputs": [],
   "source": []
  },
  {
   "cell_type": "markdown",
   "metadata": {},
   "source": [
    "Com base nos dados de teste x (total da conta), serão calculados os valores preditos\n",
    "```py\n",
    "yPred = modelo.predict(xTeste)\n",
    "```"
   ]
  },
  {
   "cell_type": "code",
   "execution_count": null,
   "metadata": {},
   "outputs": [],
   "source": []
  },
  {
   "cell_type": "markdown",
   "metadata": {},
   "source": [
    "Para realizar uma comparação do modelo, basta comparar o valor predito com o valores de teste\n",
    "```py\n",
    "plt.figure(figsize=(10,5))\n",
    "plt.scatter(xTeste, yTeste)\n",
    "plt.plot(xTeste, yPred, color='red')\n",
    "```"
   ]
  },
  {
   "cell_type": "code",
   "execution_count": null,
   "metadata": {},
   "outputs": [],
   "source": []
  },
  {
   "cell_type": "markdown",
   "metadata": {},
   "source": [
    "**Atividade**  \n",
    "- [ ] Comparado com os gráficos anteriores, qual é a quantidade de pontos:?\n",
    "- [ ] No gráfico acima, em vermelho é plotado uma reta ou vários pontos?"
   ]
  },
  {
   "cell_type": "code",
   "execution_count": null,
   "metadata": {},
   "outputs": [],
   "source": []
  },
  {
   "cell_type": "markdown",
   "metadata": {},
   "source": [
    "## Erros\n",
    "\n",
    "```py\n",
    "from sklearn import metrics\n",
    "print('Média asbsoluta dos erros:', metrics.mean_absolute_error(yTest, yPred))  \n",
    "```\n",
    "\n",
    "<!---\n",
    "from sklearn import metrics\n",
    "print('Média asbsoluta dos erros:', metrics.mean_absolute_error(yTest, yPred))  \n",
    "print('Média dos erros quadráticos:', metrics.mean_squared_error(yTest, yPred))  \n",
    "print('Raiz quadrada da média dos erros quadráticos:', np.sqrt(metrics.mean_squared_error(yTest, yPred)))\n",
    "--->"
   ]
  },
  {
   "cell_type": "code",
   "execution_count": null,
   "metadata": {},
   "outputs": [],
   "source": []
  },
  {
   "cell_type": "markdown",
   "metadata": {},
   "source": [
    "**Atividade**  \n",
    "- [ ] O quê este valor significa?\n",
    "- [ ] Qual seria o melhor valor? maior ou menor?"
   ]
  },
  {
   "cell_type": "code",
   "execution_count": null,
   "metadata": {},
   "outputs": [],
   "source": []
  },
  {
   "cell_type": "markdown",
   "metadata": {},
   "source": [
    "## Referências\n",
    "\n",
    "[Regressão Linear Simples](https://www.ime.usp.br/~fmachado/MAE229/AULA10.pdf)  \n",
    "[Data Hackers - Implementando Regressão Linear Simples em Python](https://medium.com/data-hackers/implementando-regress%C3%A3o-linear-simples-em-python-91df53b920a8)  \n",
    "[BRONSHTEIN, A. Simple and Multiple Linear Regression in Python. Towards data science, 2017](https://towardsdatascience.com/simple-and-multiple-linear-regression-in-python-c928425168f9)  \n",
    "[CHAUHAN, N.S. A beginner's guide to linear regression in Python with Scikit-Learn. Towards data science, 2019](https://towardsdatascience.com/a-beginners-guide-to-linear-regression-in-python-with-scikit-learn-83a8f7ae2b4f)  "
   ]
  },
  {
   "cell_type": "code",
   "execution_count": null,
   "metadata": {},
   "outputs": [],
   "source": []
  }
 ],
 "metadata": {
  "kernelspec": {
   "display_name": "Python 3",
   "language": "python",
   "name": "python3"
  },
  "language_info": {
   "codemirror_mode": {
    "name": "ipython",
    "version": 3
   },
   "file_extension": ".py",
   "mimetype": "text/x-python",
   "name": "python",
   "nbconvert_exporter": "python",
   "pygments_lexer": "ipython3",
   "version": "3.6.8"
  }
 },
 "nbformat": 4,
 "nbformat_minor": 2
}
