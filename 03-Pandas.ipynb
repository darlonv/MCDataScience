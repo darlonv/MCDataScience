{
 "cells": [
  {
   "cell_type": "markdown",
   "metadata": {},
   "source": [
    "# Pandas"
   ]
  },
  {
   "cell_type": "markdown",
   "metadata": {},
   "source": [
    "[API](https://pandas.pydata.org/pandas-docs/stable/reference/index.html)\n"
   ]
  },
  {
   "cell_type": "markdown",
   "metadata": {},
   "source": [
    "Para importar a biblioteca:\n",
    "\n",
    "```py\n",
    "import pandas as pd\n",
    "```\n",
    "\n",
    "A bibioteca Pandas é composta por dois tipos de dados principais, as Series e os Dataframes."
   ]
  },
  {
   "cell_type": "code",
   "execution_count": null,
   "metadata": {},
   "outputs": [],
   "source": []
  },
  {
   "cell_type": "markdown",
   "metadata": {},
   "source": [
    "## Series\n",
    "\n",
    "Uma Series opera da mesma maneira que um *array* unidimensional. Cada elemento presente na Series possui um *index* (índice), que funciona como um rótulo para cada elemento.\n",
    "\n",
    "**Exemplo**  \n",
    "Utilizaremos como exemplo uma Series para armazenar as alturas de um determinado grupo de pessoas.\n",
    "\n",
    "```py\n",
    "alturas = pd.Series([175, 182,160,156])\n",
    "```\n",
    "\n",
    "Em seguida, observe o tipo de dado utilizado\n",
    "```py\n",
    "type(alturas)\n",
    "```"
   ]
  },
  {
   "cell_type": "code",
   "execution_count": null,
   "metadata": {},
   "outputs": [],
   "source": []
  },
  {
   "cell_type": "code",
   "execution_count": null,
   "metadata": {},
   "outputs": [],
   "source": []
  },
  {
   "cell_type": "markdown",
   "metadata": {},
   "source": [
    "Observe os valores armazenados\n",
    "```py\n",
    "print(alturas)\n",
    "```\n",
    "\n",
    "Observe na saída do comando que a primeira coluna apresenta o *index*, e a segunda coluna os valores inseridos."
   ]
  },
  {
   "cell_type": "code",
   "execution_count": null,
   "metadata": {},
   "outputs": [],
   "source": []
  },
  {
   "cell_type": "code",
   "execution_count": null,
   "metadata": {},
   "outputs": [],
   "source": []
  },
  {
   "cell_type": "code",
   "execution_count": null,
   "metadata": {},
   "outputs": [],
   "source": []
  },
  {
   "cell_type": "markdown",
   "metadata": {},
   "source": [
    "Na Series `alturas`, não foi especificado qual seria o *index* utilizado. Por padrão, é utilizado uma sequência de números inteiros positivos crescente, iniciada pelo valor `0`."
   ]
  },
  {
   "cell_type": "markdown",
   "metadata": {},
   "source": [
    "Podemos obter essas informações de maneira separada. Para acessar os valores, pode-se utilizar o atributo `values`.\n",
    "\n",
    "**Exemplo**  \n",
    "```py\n",
    "alturas.values\n",
    "```"
   ]
  },
  {
   "cell_type": "code",
   "execution_count": null,
   "metadata": {},
   "outputs": [],
   "source": []
  },
  {
   "cell_type": "markdown",
   "metadata": {},
   "source": [
    "E para obter os índices, pode-se utilizar o atributo `index`.\n",
    "\n",
    "**Exemplo**  \n",
    "```py\n",
    "alturas.index\n",
    "```"
   ]
  },
  {
   "cell_type": "code",
   "execution_count": null,
   "metadata": {},
   "outputs": [],
   "source": []
  },
  {
   "cell_type": "markdown",
   "metadata": {},
   "source": [
    "Supondo que gostaríamos de adicionar como índice o nome das pessoas a que cada altura corresponde, pode ser utilizado o parâmetro `index` na criação da Series.\n",
    "\n",
    "```py\n",
    "alturas = pd.Series([175, 182,160,156], index=[\"Maria\", \"José\", \"Eduarda\", \"Sergio\"])\n",
    "```"
   ]
  },
  {
   "cell_type": "code",
   "execution_count": null,
   "metadata": {},
   "outputs": [],
   "source": []
  },
  {
   "cell_type": "markdown",
   "metadata": {},
   "source": [
    "Agora, observe o conteúdo da Series `altura` e os índices utilizados."
   ]
  },
  {
   "cell_type": "code",
   "execution_count": null,
   "metadata": {},
   "outputs": [],
   "source": []
  },
  {
   "cell_type": "code",
   "execution_count": null,
   "metadata": {},
   "outputs": [],
   "source": []
  },
  {
   "cell_type": "markdown",
   "metadata": {},
   "source": [
    "Utilizando as Series, é possível que os dados sejam acessados a partir de seu índice.\n",
    "\n",
    "```py\n",
    "alturas[\"Eduarda\"]\n",
    "```"
   ]
  },
  {
   "cell_type": "code",
   "execution_count": null,
   "metadata": {},
   "outputs": [],
   "source": []
  },
  {
   "cell_type": "code",
   "execution_count": null,
   "metadata": {},
   "outputs": [],
   "source": []
  },
  {
   "cell_type": "markdown",
   "metadata": {},
   "source": [
    "Uma Series possibilita que dados estatísticos básicos sejam calculados a partir de seus dados, diretamente com a chamada de métodos.\n",
    "\n",
    "- `.count()` - número de elementos\n",
    "- `.mean()` - média\n",
    "- `.std()` - desvio padrão\n",
    "- `.min()` - valor mínimo\n",
    "- `.max()` - valor máximo\n",
    "\n",
    "\n",
    "**Atividade**  \n",
    "- Qual é a altura média das pessoas?"
   ]
  },
  {
   "cell_type": "code",
   "execution_count": null,
   "metadata": {},
   "outputs": [],
   "source": []
  },
  {
   "cell_type": "code",
   "execution_count": null,
   "metadata": {},
   "outputs": [],
   "source": []
  },
  {
   "cell_type": "code",
   "execution_count": null,
   "metadata": {},
   "outputs": [],
   "source": []
  },
  {
   "cell_type": "code",
   "execution_count": null,
   "metadata": {},
   "outputs": [],
   "source": []
  },
  {
   "cell_type": "code",
   "execution_count": null,
   "metadata": {},
   "outputs": [],
   "source": []
  },
  {
   "cell_type": "markdown",
   "metadata": {},
   "source": [
    "É possível observar todos esses valores de uma única vez, utilizando o método `.describe()`"
   ]
  },
  {
   "cell_type": "code",
   "execution_count": null,
   "metadata": {},
   "outputs": [],
   "source": []
  },
  {
   "cell_type": "markdown",
   "metadata": {},
   "source": [
    "## Dataframe\n",
    "\n",
    "O Dataframe é uma das principais estruturas do Pandas. É composto por uma estrutura bidimensional, semelhante a uma planilha. Um Dataframe é formado por diversas Series, que possuem um mesmo índice.\n",
    "\n",
    "**Exemplo**\n",
    "```py\n",
    "pessoas = pd.DataFrame({'Nome': [\"Maria\", \"José\", \"Eduarda\", \"Sergio\", \"Julia\"],\n",
    "                        'Altura': [175, 182,160,156, 180],\n",
    "                        'Idade': [21, 40, 41, 30, 25], \n",
    "                        'Sexo': ['f', 'm', 'f', 'm', 'f']\n",
    "                        })\n",
    "```\n"
   ]
  },
  {
   "cell_type": "code",
   "execution_count": null,
   "metadata": {},
   "outputs": [],
   "source": []
  },
  {
   "cell_type": "markdown",
   "metadata": {},
   "source": [
    "Para observar o dataframe:\n",
    "```py\n",
    "pessoas\n",
    "```"
   ]
  },
  {
   "cell_type": "code",
   "execution_count": null,
   "metadata": {},
   "outputs": [],
   "source": []
  },
  {
   "cell_type": "markdown",
   "metadata": {},
   "source": [
    "Cada coluna pode possuir seu tipo de dado, que pode ser visto acessando o atributo `.dtypes`."
   ]
  },
  {
   "cell_type": "code",
   "execution_count": null,
   "metadata": {},
   "outputs": [],
   "source": []
  },
  {
   "cell_type": "markdown",
   "metadata": {},
   "source": [
    "As estatísticas de cada coluna, assim como na Series, podem ser obtidas com o método `.describe()`."
   ]
  },
  {
   "cell_type": "code",
   "execution_count": null,
   "metadata": {},
   "outputs": [],
   "source": []
  },
  {
   "cell_type": "markdown",
   "metadata": {},
   "source": [
    "**Atividade**\n",
    "- Por que não aparecem as colunas com os dados de *Nome* e *Sexo*?"
   ]
  },
  {
   "cell_type": "code",
   "execution_count": null,
   "metadata": {},
   "outputs": [],
   "source": []
  },
  {
   "cell_type": "markdown",
   "metadata": {},
   "source": [
    "A identificação de cada coluna pode ser utilizada para acessar os dados de colunas específicas.\n",
    "\n",
    "**Exemplo**\n",
    "```py\n",
    "pessoas['Nome']\n",
    "pessoas[['Nome', 'Altura']]\n",
    "```\n",
    "\n",
    "Observe que passar obter mais de uma coluna, como índice para o Dataframe é passado uma lista de valores.\n"
   ]
  },
  {
   "cell_type": "code",
   "execution_count": null,
   "metadata": {},
   "outputs": [],
   "source": []
  },
  {
   "cell_type": "code",
   "execution_count": null,
   "metadata": {},
   "outputs": [],
   "source": []
  },
  {
   "cell_type": "markdown",
   "metadata": {},
   "source": [
    "Uma outra forma de selecionar elementos é utilizando os índices (linhas) como referência, utilizando o método `.loc[]`\n",
    "\n",
    "**Exemplo**\n",
    "```py\n",
    "pessoas.loc[[2]]\n",
    "pessoas.loc[[2,4]]\n",
    "pessoas.loc[2:4]\n",
    "```\n",
    "Neste caso, utilizou-o índice como referência. Pode-se também obter a partir da posição, com o método `.iloc[]`. \n",
    "\n",
    "```py\n",
    "pessoas.iloc[[2]]\n",
    "pessoas.iloc[[2,4]]\n",
    "pessoas.iloc[2:4]\n",
    "```\n",
    "\n",
    "Para este exemplo, como os índices seguem a mesma numeração da posição dos elementos, não há diferença nos resultados."
   ]
  },
  {
   "cell_type": "code",
   "execution_count": null,
   "metadata": {},
   "outputs": [],
   "source": []
  },
  {
   "cell_type": "code",
   "execution_count": null,
   "metadata": {},
   "outputs": [],
   "source": []
  },
  {
   "cell_type": "code",
   "execution_count": null,
   "metadata": {},
   "outputs": [],
   "source": []
  },
  {
   "cell_type": "markdown",
   "metadata": {},
   "source": [
    "Os métodos `.head()` e `.tail()` servem para obter as linhas iniciais ou finais de um DataFrame. Tais métodos são úteis para observar amostras dos dados, principalmente quando tratamos de DataFrames com muitas linhas.\n",
    "\n",
    "**Exemplo**\n",
    "```py\n",
    "pessoas.head(2)\n",
    "```"
   ]
  },
  {
   "cell_type": "code",
   "execution_count": null,
   "metadata": {},
   "outputs": [],
   "source": []
  },
  {
   "cell_type": "markdown",
   "metadata": {},
   "source": [
    "É possível ordenar os dados por uma coluna específica, utilizando o método `.sort_values()`.\n",
    "\n",
    "**Exemplo**\n",
    "```py\n",
    "pessoas.sort_values('Idade')\n",
    "```"
   ]
  },
  {
   "cell_type": "code",
   "execution_count": null,
   "metadata": {},
   "outputs": [],
   "source": []
  },
  {
   "cell_type": "code",
   "execution_count": null,
   "metadata": {},
   "outputs": [],
   "source": []
  },
  {
   "cell_type": "markdown",
   "metadata": {},
   "source": [
    "DataFrames possibilitam que sejam agrupados dados de acordo alguma coluna. O método `.groupby()` realiza este agrupamento.\n",
    "\n",
    "**Exemplo**\n",
    "```py\n",
    "pessoas.groupby('Sexo')\n",
    "```"
   ]
  },
  {
   "cell_type": "code",
   "execution_count": null,
   "metadata": {},
   "outputs": [],
   "source": []
  },
  {
   "cell_type": "code",
   "execution_count": null,
   "metadata": {},
   "outputs": [],
   "source": []
  },
  {
   "cell_type": "markdown",
   "metadata": {},
   "source": [
    "**Atividade**\n",
    "- Qual a altura média de homens e mulheres?\n",
    "- Quais são os nomes da mulher e homem mais altos?"
   ]
  },
  {
   "cell_type": "code",
   "execution_count": null,
   "metadata": {},
   "outputs": [],
   "source": []
  },
  {
   "cell_type": "code",
   "execution_count": null,
   "metadata": {},
   "outputs": [],
   "source": []
  },
  {
   "cell_type": "markdown",
   "metadata": {},
   "source": [
    "Outros métodos que também podem ser utilizados são\n",
    "- `.value_counts()` - Quantidade de valores\n",
    "- `.unique()` - Valores sem repetição"
   ]
  },
  {
   "cell_type": "code",
   "execution_count": null,
   "metadata": {},
   "outputs": [],
   "source": []
  },
  {
   "cell_type": "markdown",
   "metadata": {},
   "source": [
    "## Utilizando Series com índices\n",
    "\n",
    "É possível utilizar series como índices.\n",
    "\n",
    "**Exemplo**\n",
    "Observe a saída:\n",
    "pessoas['Sexo' == m]\n",
    "\n",
    "Nesta saída o resultado é uma Series composta por valores do tipo *boolean*. Esta Series pode ser utilizada como índice, em que determinada operação será aplicada apenas aos elementos nas posições em que o índice possua valor `True`.\n",
    "\n",
    "**Exemplo**\n",
    "```py\n",
    "listaHomens=pessoas['Sexo'] == 'm'\n",
    "homens=pessoas[listaHomens]\n",
    "```\n",
    "\n",
    "Para estas operações, diversos operadores relacionais como `<`, `<=`, `>`, `>=` ou `==` podem utilizados. Desta forma, estas operações acabam funcionando como um filtro, ou máscara, para as opearações aplicadas.\n"
   ]
  },
  {
   "cell_type": "code",
   "execution_count": null,
   "metadata": {},
   "outputs": [],
   "source": []
  },
  {
   "cell_type": "markdown",
   "metadata": {},
   "source": [
    "**Atividade**\n",
    "- Qual a altura média dos homens?\n",
    "- Qual a altura média das mulheres?\n",
    "- Quem são as pessoas que possuem altura acima da média (do conjunto)?"
   ]
  },
  {
   "cell_type": "code",
   "execution_count": null,
   "metadata": {},
   "outputs": [],
   "source": []
  },
  {
   "cell_type": "code",
   "execution_count": null,
   "metadata": {},
   "outputs": [],
   "source": []
  },
  {
   "cell_type": "code",
   "execution_count": null,
   "metadata": {},
   "outputs": [],
   "source": []
  },
  {
   "cell_type": "markdown",
   "metadata": {},
   "source": [
    "### Exercício\n",
    "\n",
    "Carregue o DataFrame **rioAptos** com informações sobre apartamentos na cidade do Rio de Janeiro. Para carregar, execute:\n",
    "\n",
    "```py\n",
    "rioAptos = pd.read_csv(\"https://raw.githubusercontent.com/mvinoba/notebooks-for-binder/master/dados.csv\")\n",
    "```"
   ]
  },
  {
   "cell_type": "code",
   "execution_count": null,
   "metadata": {},
   "outputs": [],
   "source": []
  },
  {
   "cell_type": "markdown",
   "metadata": {},
   "source": [
    "Observe quais são as colunas:"
   ]
  },
  {
   "cell_type": "code",
   "execution_count": null,
   "metadata": {},
   "outputs": [],
   "source": []
  },
  {
   "cell_type": "code",
   "execution_count": null,
   "metadata": {},
   "outputs": [],
   "source": []
  },
  {
   "cell_type": "markdown",
   "metadata": {},
   "source": [
    "Observe os dados presentes nas primeiras linhas:"
   ]
  },
  {
   "cell_type": "code",
   "execution_count": null,
   "metadata": {},
   "outputs": [],
   "source": []
  },
  {
   "cell_type": "markdown",
   "metadata": {},
   "source": [
    "- Qual é o valor do apartamento mais barato?\n",
    "- Qual é o valor do apartamento mais caro?\n",
    "- Qual é o valor do m2 mais barato?\n",
    "- Qual é o valor do m2 mais caro?"
   ]
  },
  {
   "cell_type": "code",
   "execution_count": null,
   "metadata": {},
   "outputs": [],
   "source": []
  },
  {
   "cell_type": "markdown",
   "metadata": {},
   "source": [
    "- Em qual bairro está o apartamento mais barato?"
   ]
  },
  {
   "cell_type": "code",
   "execution_count": null,
   "metadata": {},
   "outputs": [],
   "source": []
  },
  {
   "cell_type": "markdown",
   "metadata": {},
   "source": [
    "- Em qual bairro está o apartamento mais caro?"
   ]
  },
  {
   "cell_type": "code",
   "execution_count": null,
   "metadata": {},
   "outputs": [],
   "source": []
  },
  {
   "cell_type": "markdown",
   "metadata": {},
   "source": [
    "- Na base de dados, quantos apartamentos há em cada bairro?"
   ]
  },
  {
   "cell_type": "code",
   "execution_count": null,
   "metadata": {},
   "outputs": [],
   "source": []
  },
  {
   "cell_type": "markdown",
   "metadata": {},
   "source": [
    "- Quais são os maiores apartamentos em cada bairro?"
   ]
  },
  {
   "cell_type": "code",
   "execution_count": null,
   "metadata": {},
   "outputs": [],
   "source": []
  },
  {
   "cell_type": "markdown",
   "metadata": {},
   "source": [
    "- Qual é o tamanho médio dos apartamentos em cada bairro?"
   ]
  },
  {
   "cell_type": "code",
   "execution_count": null,
   "metadata": {},
   "outputs": [],
   "source": []
  },
  {
   "cell_type": "markdown",
   "metadata": {},
   "source": [
    "- Quais são os apartamentos com preços acima da média?"
   ]
  },
  {
   "cell_type": "code",
   "execution_count": null,
   "metadata": {},
   "outputs": [],
   "source": []
  },
  {
   "cell_type": "markdown",
   "metadata": {},
   "source": [
    "## Referências\n",
    "\n",
    "- [Data Hackers: Seus primeiros passos como Data Scientist: Introdução ao Pandas](https://medium.com/data-hackers/uma-introdução-simples-ao-pandas-1e15eea37fa1)  \n",
    "- [Pandas API Reference](https://pandas.pydata.org/pandas-docs/stable/reference/index.html)"
   ]
  },
  {
   "cell_type": "code",
   "execution_count": null,
   "metadata": {},
   "outputs": [],
   "source": []
  }
 ],
 "metadata": {
  "kernelspec": {
   "display_name": "Python 3",
   "language": "python",
   "name": "python3"
  },
  "language_info": {
   "codemirror_mode": {
    "name": "ipython",
    "version": 3
   },
   "file_extension": ".py",
   "mimetype": "text/x-python",
   "name": "python",
   "nbconvert_exporter": "python",
   "pygments_lexer": "ipython3",
   "version": "3.6.8"
  }
 },
 "nbformat": 4,
 "nbformat_minor": 2
}
